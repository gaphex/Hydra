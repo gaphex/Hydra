{
 "cells": [
  {
   "cell_type": "code",
   "execution_count": 83,
   "metadata": {
    "collapsed": true
   },
   "outputs": [],
   "source": [
    "import sqlite3\n",
    "import numpy as np\n",
    "import pandas as pd\n",
    "import matplotlib.pyplot as plt\n",
    "import operator\n",
    "import collections\n",
    "%matplotlib inline\n",
    "\n",
    "#Getting the data\n",
    "con = sqlite3.connect('tweetsSpring.db')\n",
    "data = pd.read_sql(\"SELECT * from tweets\",con)"
   ]
  },
  {
   "cell_type": "code",
   "execution_count": 85,
   "metadata": {
    "collapsed": true
   },
   "outputs": [],
   "source": [
    "#Progress\n",
    "from sys import stdout\n",
    "def progress(i, n):\n",
    "    stdout.write(\"\\r%f%%\" % (i*100/float(n)))\n",
    "    stdout.flush()\n",
    "    if i == n-1:\n",
    "        stdout.write(\"\\r100%\")\n",
    "        print(\"\\r\\n\")"
   ]
  },
  {
   "cell_type": "code",
   "execution_count": 86,
   "metadata": {
    "collapsed": false
   },
   "outputs": [
    {
     "name": "stdout",
     "output_type": "stream",
     "text": [
      "Invoking Processor...\n"
     ]
    }
   ],
   "source": [
    "import json\n",
    "import re\n",
    "import pymorphy2\n",
    "import Stemmer\n",
    "\n",
    "class TweetTextParser():\n",
    "\n",
    "    def __init__(self):\n",
    "        print 'Invoking Processor...'\n",
    "        self.morph = pymorphy2.MorphAnalyzer()\n",
    "        self.stemmer = Stemmer.Stemmer('russian')\n",
    "        try:\n",
    "            self.emo_db = json.load(open('Hydra/pyalchemy/emoji_database','r'))\n",
    "        except:\n",
    "            print('No emoji database found')\n",
    "\n",
    "\n",
    "    def processContents(self, myText):\n",
    "        myText = re.sub(r'(?i)\\b((?:https?://|www\\d{0,3}[.]|[a-z0-9.\\-]+[.][a-z]{2,4}     /)(?:[^\\s()<>]+|\\(([^\\s()<>]+|(\\([^\\s()<>]+\\)))*\\))+(?:\\(([^\\s()<>]+|(\\([^\\s()<>]+\\)))*\\)|[^\\s`!()\\[\\]{};:\\'\".,<>?«»“”‘’]))', '', myText)\n",
    "        words = [word for word in re.findall(r'(?u)[@|#]?\\w+', myText) if not word.startswith(('@','#'))]\n",
    "        words = self.stemmer.stemWords(words)\n",
    "        return words\n",
    "        \n",
    "    def resolveEmoji(self, myText):\n",
    "        emostr = []\n",
    "        emo_db = self.emo_db\n",
    "        b = myText.encode('unicode_escape').split('\\\\')\n",
    "        c = [point.replace('000','+').upper() for point in b if len(point) > 8 and point[0] == 'U']\n",
    "        [emostr.append(emo_db[emo[:7]]) for emo in c if emo[:7] in emo_db]\n",
    "        return myText\n",
    "\n",
    "textProcessor = TweetTextParser()"
   ]
  },
  {
   "cell_type": "code",
   "execution_count": 86,
   "metadata": {
    "collapsed": false
   },
   "outputs": [
    {
     "name": "stdout",
     "output_type": "stream",
     "text": [
      "149.473669052\n"
     ]
    }
   ],
   "source": [
    "from time import time\n",
    "morph = pymorphy2.MorphAnalyzer()\n",
    "stemmer = Stemmer.Stemmer('russian')\n",
    "\n",
    "#Cleaning up the data\n",
    "t0 = time()\n",
    "terms = []\n",
    "n = len(data.index)\n",
    "#n = 100000\n",
    "for i in range(n):\n",
    "    terms.append(textProcessor.processContents(data.content_lower[i]))\n",
    "print time()-t0"
   ]
  },
  {
   "cell_type": "code",
   "execution_count": 88,
   "metadata": {
    "collapsed": false
   },
   "outputs": [],
   "source": [
    "data['terms'] = terms[:]"
   ]
  },
  {
   "cell_type": "code",
   "execution_count": 89,
   "metadata": {
    "collapsed": false,
    "scrolled": true
   },
   "outputs": [
    {
     "name": "stdout",
     "output_type": "stream",
     "text": [
      "Well\n",
      "it\n",
      "was\n",
      "СУКА\n",
      "My\n",
      "universe\n",
      "will\n",
      "never\n",
      "be\n",
      "the\n",
      "same\n",
      "I\n",
      "m\n",
      "glad\n",
      "you\n",
      "came\n",
      "Ветошн\n",
      "переулок\n",
      "хоч\n",
      "пересмотрет\n",
      "все\n",
      "част\n",
      "Гар\n",
      "Поттер\n",
      "I\n",
      "m\n",
      "at\n",
      "Автобус\n",
      "293\n",
      "так\n",
      "и\n",
      "знал\n",
      "что\n",
      "ЭльДжо\n",
      "покрас\n",
      "в\n",
      "светл\n",
      "ещё\n",
      "в\n",
      "прошл\n",
      "раз\n",
      "разглядел\n",
      "кончик\n",
      "но\n",
      "блин\n",
      "ЭльДжо\n",
      "заканчива\n",
      "кос\n",
      "под\n",
      "Кибом\n",
      "спасиб\n",
      "бы\n",
      "сказа\n",
      "свинот\n",
      "ОН\n",
      "ОПЯТЬ\n",
      "ДРЕЛИТ\n",
      "Окулист\n",
      "фиг\n",
      "ЙОУ\n"
     ]
    }
   ],
   "source": [
    "for row in data.index[:10]: \n",
    "    for word in data['terms'][row]: print word"
   ]
  },
  {
   "cell_type": "code",
   "execution_count": 92,
   "metadata": {
    "collapsed": false
   },
   "outputs": [
    {
     "name": "stdout",
     "output_type": "stream",
     "text": [
      "Vocab Length:  420982\n"
     ]
    }
   ],
   "source": [
    "from collections import Counter\n",
    "import nltk\n",
    "\n",
    "words = []\n",
    "for i in range(n):\n",
    "    words += terms[i]\n",
    "\n",
    "fdist = nltk.FreqDist(words)\n",
    "sortedDist = sorted(fdist.items(), key=operator.itemgetter(1),reverse=True)\n",
    "\n",
    "#sortedDist = [x for x in sortedDist if len(x[0]) > 2]\n",
    "#allTheWords = [x for x in moreThan3 if x[1] > 1]\n",
    "interestingVocab = [x[0] for x in sortedDist]\n",
    "print 'Vocab Length: ', len(interestingVocab)"
   ]
  },
  {
   "cell_type": "code",
   "execution_count": 93,
   "metadata": {
    "collapsed": false
   },
   "outputs": [
    {
     "name": "stdout",
     "output_type": "stream",
     "text": [
      "в\n",
      "и\n",
      "не\n",
      "я\n",
      "на\n",
      "что\n",
      "с\n",
      "эт\n",
      "так\n",
      "как\n"
     ]
    }
   ],
   "source": [
    "for i in range(10):\n",
    "    print interestingVocab[i]"
   ]
  },
  {
   "cell_type": "code",
   "execution_count": 94,
   "metadata": {
    "collapsed": false
   },
   "outputs": [],
   "source": [
    "#Find TF-IDF\n",
    "from sklearn.feature_extraction.text import CountVectorizer\n",
    "from sklearn.metrics.pairwise import cosine_similarity\n",
    "from sklearn.feature_extraction.text import TfidfVectorizer\n",
    "\n",
    "trainingList = []\n",
    "for i in range(n):\n",
    "    trainingList.append(' '.join(data['terms'][i]))\n",
    "\n",
    "tfidf_vectorizer = TfidfVectorizer(vocabulary = interestingVocab)\n",
    "tfidf_matrix_train = tfidf_vectorizer.fit_transform(trainingList)  #finds the tfidf score with normalization"
   ]
  },
  {
   "cell_type": "code",
   "execution_count": 95,
   "metadata": {
    "collapsed": false
   },
   "outputs": [],
   "source": [
    "import time\n",
    "def findSimilarTweets(queryTweet, data):\n",
    "    print 'Query:', queryTweet\n",
    "    processedTweet = ' '.join(textProcessor.processContents(queryTweet))\n",
    "    \n",
    "    queryTweetRepresentation = tfidf_vectorizer.transform([processedTweet])\n",
    "    start_time = time.time()\n",
    "    cosine_similarities = cosine_similarity(queryTweetRepresentation, tfidf_matrix_train)[0]\n",
    "    indices = cosine_similarities.argsort()[:-10:-1]\n",
    "    elapsed_time = time.time() - start_time\n",
    "    print 'time: ', elapsed_time\n",
    "    \n",
    "    print 'cosine scores ==>', cosine_similarities[indices]\n",
    "    print ''\n",
    "    print 'Results:'\n",
    "    print data[indices]\n",
    "    \n",
    "    return indices"
   ]
  },
  {
   "cell_type": "code",
   "execution_count": 99,
   "metadata": {
    "collapsed": false
   },
   "outputs": [
    {
     "name": "stdout",
     "output_type": "stream",
     "text": [
      "Query: в метро объявляют станции\n",
      "time:  0.81738615036\n",
      "cosine scores ==> [ 0.80963556  0.76302223  0.76099306  0.75237399  0.74935803  0.73633315\n",
      "  0.72306345  0.72114582  0.70909817]\n",
      "\n",
      "Results:\n",
      "496738                           @TimZhur в метро объявляют\n",
      "850138    А в Московском метро станции объявляют знамени...\n",
      "618510               В метро станции объявляет Сюткин😏🚇📣\n",
      "245042    #бсср #беларусь #ссср #метрополитен #Москва #м...\n",
      "573446    Михалков в метро станции объявляет. Метро моей...\n",
      "586347    Что за странные голоса теперь объявляют  станц...\n",
      "689794         Хочу чтобы в метро станции объявлял патриарх\n",
      "745157    Я хочу, чтобы станции в метро объявлял Джеймс ...\n",
      "554644          В метро станции Крачковская объявляет. Кххх\n",
      "Name: content, dtype: object\n"
     ]
    }
   ],
   "source": [
    "#before\n",
    "inidiciesOfTweets = findSimilarTweets(u'в метро объявляют станции',data['content'])"
   ]
  },
  {
   "cell_type": "code",
   "execution_count": null,
   "metadata": {
    "collapsed": true
   },
   "outputs": [],
   "source": [
    "len(data)"
   ]
  },
  {
   "cell_type": "code",
   "execution_count": 74,
   "metadata": {
    "collapsed": false
   },
   "outputs": [
    {
     "name": "stdout",
     "output_type": "stream",
     "text": [
      "Vocab Length:  15268\n"
     ]
    }
   ],
   "source": [
    "print 'Vocab Length: ', len(interestingVocab)"
   ]
  },
  {
   "cell_type": "code",
   "execution_count": 75,
   "metadata": {
    "collapsed": false
   },
   "outputs": [
    {
     "name": "stdout",
     "output_type": "stream",
     "text": [
      "Ребята, мы всем рады!\n"
     ]
    }
   ],
   "source": [
    "print data['cleanText'][0]"
   ]
  },
  {
   "cell_type": "code",
   "execution_count": 53,
   "metadata": {
    "collapsed": false
   },
   "outputs": [
    {
     "data": {
      "text/plain": [
       "673685"
      ]
     },
     "execution_count": 53,
     "metadata": {},
     "output_type": "execute_result"
    }
   ],
   "source": [
    "len(trainigList)"
   ]
  },
  {
   "cell_type": "code",
   "execution_count": 44,
   "metadata": {
    "collapsed": false
   },
   "outputs": [
    {
     "name": "stdout",
     "output_type": "stream",
     "text": [
      "Help on class LSH in module sparselsh.lsh:\n",
      "\n",
      "class LSH(__builtin__.object)\n",
      " |  LSH implments locality sensitive hashing using random projection for\n",
      " |  input vectors of dimension `input_dim`.\n",
      " |  \n",
      " |  Attributes:\n",
      " |  \n",
      " |  :param hash_size:\n",
      " |      The length of the resulting binary hash in integer. E.g., 32 means the\n",
      " |      resulting binary hash will be 32-bit long.\n",
      " |  :param input_dim:\n",
      " |      The dimension of the input vector. This can be found in your sparse\n",
      " |      matrix by checking the .shape attribute of your matrix. I.E.,\n",
      " |          `csr_dataset.shape[1]`\n",
      " |  :param num_hashtables:\n",
      " |      (optional) The number of hash tables used for multiple look-ups.\n",
      " |      Increasing the number of hashtables increases the probability of\n",
      " |      a hash collision of similar documents, but it also increases the\n",
      " |      amount of work needed to add points.\n",
      " |  :param storage_config:\n",
      " |      (optional) A dictionary of the form `{backend_name: config}` where\n",
      " |      `backend_name` is the either `dict`, `berkeleydb`, `leveldb` or\n",
      " |      `redis`. `config` is the configuration used by the backend.\n",
      " |      Example configs for each type are as follows:\n",
      " |      `In-Memory Python Dictionary`:\n",
      " |          {\"dict\": None} # Takes no options\n",
      " |      `Redis`:\n",
      " |          `{\"redis\": {\"host\": hostname, \"port\": port_num}}`\n",
      " |          Where `hostname` is normally `localhost` and `port` is normally 6379.\n",
      " |      `LevelDB`:\n",
      " |          {'leveldb':{'db': 'ldb'}}\n",
      " |          Where 'db' specifies the directory to store the LevelDB database.\n",
      " |      `Berkeley DB`:\n",
      " |          {'berkeleydb':{'filename': './db'}}\n",
      " |          Where 'filename' is the location of the database file.\n",
      " |      NOTE: Both Redis and Dict are in-memory. Keep this in mind when\n",
      " |      selecting a storage backend.\n",
      " |  :param matrices_filename:\n",
      " |      (optional) Specify the path to the compressed numpy file ending with\n",
      " |      extension `.npz`, where the uniform random planes are stored, or to be\n",
      " |      stored if the file does not exist yet.\n",
      " |  :param overwrite:\n",
      " |      (optional) Whether to overwrite the matrices file if it already exist.\n",
      " |      This needs to be True if the input dimensions or number of hashtables\n",
      " |      change.\n",
      " |  \n",
      " |  Methods defined here:\n",
      " |  \n",
      " |  __init__(self, hash_size, input_dim, num_hashtables=1, storage_config=None, matrices_filename=None, overwrite=False)\n",
      " |  \n",
      " |  index(self, input_point, extra_data=None)\n",
      " |      Index a single input point by adding it to the selected storage.\n",
      " |      \n",
      " |      If `extra_data` is provided, it will become the value of the dictionary\n",
      " |      {input_point: extra_data}, which in turn will become the value of the\n",
      " |      hash table.\n",
      " |      \n",
      " |      :param input_point:\n",
      " |          A sparse CSR matrix. The dimension needs to be 1 * `input_dim`.\n",
      " |      :param extra_data:\n",
      " |          (optional) A value to associate with the point. Commonly this is\n",
      " |          a target/class-value of some type.\n",
      " |  \n",
      " |  query(self, query_point, num_results=None, distance_func=None)\n",
      " |      Takes `query_point` which is a sparse CSR matrix of 1 x `input_dim`,\n",
      " |      returns `num_results` of results as a list of tuples that are ranked\n",
      " |      based on the supplied metric function `distance_func`.\n",
      " |      \n",
      " |      :param query_point:\n",
      " |          A sparse CSR matrix. The dimension needs to be 1 * `input_dim`.\n",
      " |          Used by :meth:`._hash`.\n",
      " |      :param num_results:\n",
      " |          (optional) Integer, specifies the max amount of results to be\n",
      " |          returned. If not specified all candidates will be returned as a\n",
      " |          list in ranked order.\n",
      " |          NOTE: You do not save processing by limiting the results. Currently,\n",
      " |          a similarity ranking and sort is done on all items in the hashtable.\n",
      " |      :param distance_func:\n",
      " |          (optional) The distance function to be used. Currently it needs to\n",
      " |          be one of (\"hamming\", \"euclidean\", \"true_euclidean\",\n",
      " |          \"centred_euclidean\", \"cosine\", \"l1norm\"). By default \"euclidean\"\n",
      " |          will used.\n",
      " |  \n",
      " |  ----------------------------------------------------------------------\n",
      " |  Static methods defined here:\n",
      " |  \n",
      " |  cosine_dist(x, y)\n",
      " |  \n",
      " |  euclidean_dist(x, y)\n",
      " |  \n",
      " |  euclidean_dist_centred(x, y)\n",
      " |  \n",
      " |  euclidean_dist_square(x, y)\n",
      " |  \n",
      " |  hamming_dist(sparse1, sparse2)\n",
      " |  \n",
      " |  l1norm_dist(x, y)\n",
      " |  \n",
      " |  ----------------------------------------------------------------------\n",
      " |  Data descriptors defined here:\n",
      " |  \n",
      " |  __dict__\n",
      " |      dictionary for instance variables (if defined)\n",
      " |  \n",
      " |  __weakref__\n",
      " |      list of weak references to the object (if defined)\n",
      "\n"
     ]
    }
   ],
   "source": [
    "from sparselsh import LSH\n",
    "from scipy.sparse import csr_matrix\n",
    "\n",
    "help(LSH)"
   ]
  },
  {
   "cell_type": "code",
   "execution_count": 45,
   "metadata": {
    "collapsed": false
   },
   "outputs": [
    {
     "ename": "NameError",
     "evalue": "name 'tfidf_matrix_train' is not defined",
     "output_type": "error",
     "traceback": [
      "\u001b[0;31m---------------------------------------------------------------------------\u001b[0m",
      "\u001b[0;31mNameError\u001b[0m                                 Traceback (most recent call last)",
      "\u001b[0;32m<ipython-input-45-f4577b5aa7aa>\u001b[0m in \u001b[0;36m<module>\u001b[0;34m()\u001b[0m\n\u001b[1;32m      4\u001b[0m \u001b[0mt0\u001b[0m \u001b[0;34m=\u001b[0m \u001b[0mtime\u001b[0m\u001b[0;34m(\u001b[0m\u001b[0;34m)\u001b[0m\u001b[0;34m\u001b[0m\u001b[0m\n\u001b[1;32m      5\u001b[0m lsh = LSH( 100,\n\u001b[0;32m----> 6\u001b[0;31m            \u001b[0mtfidf_matrix_train\u001b[0m\u001b[0;34m.\u001b[0m\u001b[0mshape\u001b[0m\u001b[0;34m[\u001b[0m\u001b[0;36m1\u001b[0m\u001b[0;34m]\u001b[0m\u001b[0;34m,\u001b[0m\u001b[0;34m\u001b[0m\u001b[0m\n\u001b[0m\u001b[1;32m      7\u001b[0m            \u001b[0mnum_hashtables\u001b[0m\u001b[0;34m=\u001b[0m\u001b[0;36m1\u001b[0m\u001b[0;34m,\u001b[0m\u001b[0;34m\u001b[0m\u001b[0m\n\u001b[1;32m      8\u001b[0m            storage_config={\"dict\":None})\n",
      "\u001b[0;31mNameError\u001b[0m: name 'tfidf_matrix_train' is not defined"
     ]
    }
   ],
   "source": [
    "from sparselsh import LSH\n",
    "from scipy.sparse import csr_matrix\n",
    "\n",
    "t0 = time()\n",
    "lsh = LSH( 100,\n",
    "           tfidf_matrix_train.shape[1],\n",
    "           num_hashtables=1,\n",
    "           storage_config={\"dict\":None})\n",
    "print time()-t0"
   ]
  },
  {
   "cell_type": "code",
   "execution_count": null,
   "metadata": {
    "collapsed": false
   },
   "outputs": [
    {
     "name": "stdout",
     "output_type": "stream",
     "text": [
      "6.470348%"
     ]
    }
   ],
   "source": [
    "for ix in xrange(tfidf_matrix_train.shape[0]):\n",
    "    x = tfidf_matrix_train.getrow(ix)\n",
    "    lsh.index(x)\n",
    "    progress(ix,tfidf_matrix_train.shape[0])"
   ]
  },
  {
   "cell_type": "code",
   "execution_count": null,
   "metadata": {
    "collapsed": true
   },
   "outputs": [],
   "source": []
  }
 ],
 "metadata": {
  "kernelspec": {
   "display_name": "Python 2",
   "language": "python",
   "name": "python2"
  },
  "language_info": {
   "codemirror_mode": {
    "name": "ipython",
    "version": 2
   },
   "file_extension": ".py",
   "mimetype": "text/x-python",
   "name": "python",
   "nbconvert_exporter": "python",
   "pygments_lexer": "ipython2",
   "version": "2.7.9"
  }
 },
 "nbformat": 4,
 "nbformat_minor": 0
}
