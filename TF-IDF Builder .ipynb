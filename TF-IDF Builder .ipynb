{
 "cells": [
  {
   "cell_type": "code",
   "execution_count": 6,
   "metadata": {
    "collapsed": false
   },
   "outputs": [],
   "source": [
    "import sqlite3\n",
    "import numpy as np\n",
    "import pandas as pd\n",
    "import matplotlib.pyplot as plt\n",
    "import operator\n",
    "import collections\n",
    "%matplotlib inline\n",
    "\n",
    "#Getting the data\n",
    "con = sqlite3.connect('tweetsSpring.db')\n",
    "data = pd.read_sql(\"SELECT * from tweets where month = 5 and day != 26\",con)\n",
    "dataLast = pd.read_sql(\"SELECT * from tweets where month = 5 and day = 26\",con)"
   ]
  },
  {
   "cell_type": "code",
   "execution_count": 11,
   "metadata": {
    "collapsed": true
   },
   "outputs": [],
   "source": [
    "#Progress\n",
    "from sys import stdout\n",
    "def progress(i, n):\n",
    "    stdout.write(\"\\r%f%%\" % (i*100/float(n)))\n",
    "    stdout.flush()\n",
    "    if i == n-1:\n",
    "        stdout.write(\"\\r100%\")\n",
    "        print(\"\\r\\n\")"
   ]
  },
  {
   "cell_type": "code",
   "execution_count": 13,
   "metadata": {
    "collapsed": false
   },
   "outputs": [
    {
     "name": "stdout",
     "output_type": "stream",
     "text": [
      "Invoking Processor...\n"
     ]
    }
   ],
   "source": [
    "import json\n",
    "import re\n",
    "import pymorphy2\n",
    "import Stemmer\n",
    "\n",
    "class TweetTextParser():\n",
    "\n",
    "    def __init__(self):\n",
    "        print 'Invoking Processor...'\n",
    "        self.morph = pymorphy2.MorphAnalyzer()\n",
    "        self.stemmer = Stemmer.Stemmer('russian')\n",
    "        try:\n",
    "            self.emo_db = json.load(open('pyalchemy/emoji_database','r'))\n",
    "        except:\n",
    "            print('No emoji database found')\n",
    "\n",
    "\n",
    "    def processContents(self, myText):\n",
    "        myText = re.sub(r'(?i)\\b((?:https?://|www\\d{0,3}[.]|[a-z0-9.\\-]+[.][a-z]{2,4}     /)(?:[^\\s()<>]+|\\(([^\\s()<>]+|(\\([^\\s()<>]+\\)))*\\))+(?:\\(([^\\s()<>]+|(\\([^\\s()<>]+\\)))*\\)|[^\\s`!()\\[\\]{};:\\'\".,<>?«»“”‘’]))', '', myText)\n",
    "        words = [word for word in re.findall(r'(?u)[@|#]?\\w+', myText) if not word.startswith(('@','#'))]\n",
    "        words = self.stemmer.stemWords(words)\n",
    "        return words\n",
    "        \n",
    "    def resolveEmoji(self, myText):\n",
    "        emostr = []\n",
    "        emo_db = self.emo_db\n",
    "        b = myText.encode('unicode_escape').split('\\\\')\n",
    "        c = [point.replace('000','+').upper() for point in b if len(point) > 8 and point[0] == 'U']\n",
    "        [emostr.append(emo_db[emo[:7]]) for emo in c if emo[:7] in emo_db]\n",
    "        return myText\n",
    "\n",
    "textProcessor = TweetTextParser()"
   ]
  },
  {
   "cell_type": "code",
   "execution_count": 14,
   "metadata": {
    "collapsed": false
   },
   "outputs": [
    {
     "name": "stdout",
     "output_type": "stream",
     "text": [
      "31.3677601814\n"
     ]
    }
   ],
   "source": [
    "from time import time\n",
    "morph = pymorphy2.MorphAnalyzer()\n",
    "stemmer = Stemmer.Stemmer('russian')\n",
    "\n",
    "#Cleaning up the data\n",
    "t0 = time()\n",
    "terms = []\n",
    "n = len(data.index)\n",
    "#n = 100000\n",
    "for i in range(n):\n",
    "    terms.append(textProcessor.processContents(data.content_lower[i]))\n",
    "print time()-t0"
   ]
  },
  {
   "cell_type": "code",
   "execution_count": 15,
   "metadata": {
    "collapsed": false
   },
   "outputs": [],
   "source": [
    "data['terms'] = terms[:]"
   ]
  },
  {
   "cell_type": "code",
   "execution_count": 16,
   "metadata": {
    "collapsed": false,
    "scrolled": true
   },
   "outputs": [
    {
     "name": "stdout",
     "output_type": "stream",
     "text": [
      "Ну\n",
      "кто\n",
      "ещ\n",
      "попадет\n",
      "на\n",
      "инвентаризац\n",
      "есл\n",
      "не\n",
      "я\n",
      "пожалуйст\n",
      "пуст\n",
      "утр\n",
      "все\n",
      "эт\n",
      "окажет\n",
      "дурн\n",
      "сном\n",
      "Смотр\n",
      "я\n",
      "в\n",
      "Москв\n",
      "Сейчас\n",
      "9\n",
      "ясн\n",
      "Утром\n",
      "7\n",
      "облачн\n",
      "небольш\n",
      "дожд\n",
      "Днем\n",
      "11\n",
      "пасмурн\n",
      "дожд\n",
      "Вечер\n",
      "Аа\n",
      "ты\n",
      "в\n",
      "Москв\n",
      "Немн\n",
      "приятн\n",
      "момент\n",
      "Ну\n",
      "взяв\n",
      "тво\n",
      "ручк\n",
      "в\n",
      "сво\n",
      "несильн\n",
      "сжима\n",
      "да\n",
      "да\n",
      "я\n",
      "в\n",
      "Москв\n",
      "Росс\n",
      "ахаххах\n",
      "аргументн\n",
      "аргумент\n"
     ]
    }
   ],
   "source": [
    "for row in data.index[:10]: \n",
    "    for word in data['terms'][row]: print word"
   ]
  },
  {
   "cell_type": "code",
   "execution_count": 22,
   "metadata": {
    "collapsed": false
   },
   "outputs": [
    {
     "name": "stdout",
     "output_type": "stream",
     "text": [
      "Vocab Length:  262391\n"
     ]
    }
   ],
   "source": [
    "from collections import Counter\n",
    "import nltk\n",
    "\n",
    "words = []\n",
    "for i in range(n):\n",
    "    words += terms[i]\n",
    "\n",
    "fdist = nltk.FreqDist(words)\n",
    "sortedDist = sorted(fdist.items(), key=operator.itemgetter(1),reverse=True)\n",
    "\n",
    "sortedDist = [x for x in sortedDist if len(x[0]) > 2]\n",
    "#allTheWords = [x for x in moreThan3 if x[1] > 1]\n",
    "interestingVocab = [x[0] for x in sortedDist]\n",
    "print 'Vocab Length: ', len(interestingVocab)"
   ]
  },
  {
   "cell_type": "code",
   "execution_count": 23,
   "metadata": {
    "collapsed": false
   },
   "outputs": [
    {
     "name": "stdout",
     "output_type": "stream",
     "text": [
      "что\n",
      "так\n",
      "как\n",
      "Москв\n",
      "мен\n",
      "все\n",
      "мне\n",
      "был\n",
      "теб\n",
      "прост\n"
     ]
    }
   ],
   "source": [
    "for i in range(10):\n",
    "    print interestingVocab[i]"
   ]
  },
  {
   "cell_type": "code",
   "execution_count": 24,
   "metadata": {
    "collapsed": false
   },
   "outputs": [],
   "source": [
    "#Find TF-IDF\n",
    "from sklearn.feature_extraction.text import CountVectorizer\n",
    "from sklearn.metrics.pairwise import cosine_similarity\n",
    "from sklearn.feature_extraction.text import TfidfVectorizer\n",
    "\n",
    "trainingList = []\n",
    "for i in range(n):\n",
    "    trainingList.append(' '.join(data['terms'][i]))\n",
    "\n",
    "tfidf_vectorizer = TfidfVectorizer(vocabulary = interestingVocab)\n",
    "tfidf_matrix_train = tfidf_vectorizer.fit_transform(trainingList)  #finds the tfidf score with normalization"
   ]
  },
  {
   "cell_type": "code",
   "execution_count": 137,
   "metadata": {
    "collapsed": false
   },
   "outputs": [],
   "source": [
    "import time\n",
    "def findSimilarTweets(queryTweet, data, threshold, maxNumber = 0, log = True):\n",
    "    print 'Query:', queryTweet\n",
    "    \n",
    "    processedTweet = ' '.join(textProcessor.processContents(queryTweet))\n",
    "    queryTweetRepresentation = tfidf_vectorizer.transform([processedTweet])\n",
    "    \n",
    "    start_time = time.time()\n",
    "    cosine_similarities = cosine_similarity(queryTweetRepresentation, tfidf_matrix_train)[0]\n",
    "    totalMatchingTweets = len(cosine_similarities[cosine_similarities>threshold])\n",
    "    if maxNumber:\n",
    "        totalMatchingTweets = min(totalMatchingTweets, maxNumber)\n",
    "    indices = cosine_similarities.argsort()[::-1][:totalMatchingTweets]\n",
    "    elapsed_time = time.time() - start_time\n",
    "    if (log):\n",
    "        print 'time: ', elapsed_time\n",
    "        print ''\n",
    "        print 'Results:'\n",
    "        print data[indices]\n",
    "        print ''\n",
    "        print 'cosine scores ==>', cosine_similarities[indices]\n",
    "    \n",
    "    return indices"
   ]
  },
  {
   "cell_type": "code",
   "execution_count": 139,
   "metadata": {
    "collapsed": false
   },
   "outputs": [
    {
     "name": "stdout",
     "output_type": "stream",
     "text": [
      "Query: в метро объявляют станции\n"
     ]
    }
   ],
   "source": [
    "#before\n",
    "inidiciesOfTweets = findSimilarTweets(u'в метро объявляют станции', data['content'], 0.5, log = False)"
   ]
  },
  {
   "cell_type": "code",
   "execution_count": 133,
   "metadata": {
    "collapsed": false
   },
   "outputs": [
    {
     "data": {
      "text/plain": [
       "208048    2015-05-09 11:24:42\n",
       "82540     2015-05-04 14:26:25\n",
       "47704     2015-05-03 04:36:03\n",
       "103067    2015-05-05 09:15:06\n",
       "51625     2015-05-03 10:02:38\n",
       "508327    2015-05-20 15:41:42\n",
       "30541     2015-05-02 11:12:48\n",
       "222745    2015-05-09 20:55:48\n",
       "107291    2015-05-05 12:40:51\n",
       "111956    2015-05-05 15:51:45\n",
       "Name: created_at, dtype: object"
      ]
     },
     "execution_count": 133,
     "metadata": {},
     "output_type": "execute_result"
    }
   ],
   "source": [
    "data.created_at[inidiciesOfTweets]"
   ]
  },
  {
   "cell_type": "code",
   "execution_count": 74,
   "metadata": {
    "collapsed": false
   },
   "outputs": [
    {
     "name": "stdout",
     "output_type": "stream",
     "text": [
      "Vocab Length:  15268\n"
     ]
    }
   ],
   "source": [
    "print 'Vocab Length: ', len(interestingVocab)"
   ]
  },
  {
   "cell_type": "code",
   "execution_count": 75,
   "metadata": {
    "collapsed": false
   },
   "outputs": [
    {
     "name": "stdout",
     "output_type": "stream",
     "text": [
      "Ребята, мы всем рады!\n"
     ]
    }
   ],
   "source": [
    "print data['cleanText'][0]"
   ]
  },
  {
   "cell_type": "code",
   "execution_count": 53,
   "metadata": {
    "collapsed": false
   },
   "outputs": [
    {
     "data": {
      "text/plain": [
       "673685"
      ]
     },
     "execution_count": 53,
     "metadata": {},
     "output_type": "execute_result"
    }
   ],
   "source": [
    "len(trainigList)"
   ]
  },
  {
   "cell_type": "code",
   "execution_count": 2,
   "metadata": {
    "collapsed": false
   },
   "outputs": [
    {
     "name": "stdout",
     "output_type": "stream",
     "text": [
      "hi\n"
     ]
    }
   ],
   "source": [
    "from scipy.sparse import csr_matrix\n",
    "\n",
    "print('hi')"
   ]
  },
  {
   "cell_type": "code",
   "execution_count": 45,
   "metadata": {
    "collapsed": false
   },
   "outputs": [
    {
     "ename": "NameError",
     "evalue": "name 'tfidf_matrix_train' is not defined",
     "output_type": "error",
     "traceback": [
      "\u001b[0;31m---------------------------------------------------------------------------\u001b[0m",
      "\u001b[0;31mNameError\u001b[0m                                 Traceback (most recent call last)",
      "\u001b[0;32m<ipython-input-45-f4577b5aa7aa>\u001b[0m in \u001b[0;36m<module>\u001b[0;34m()\u001b[0m\n\u001b[1;32m      4\u001b[0m \u001b[0mt0\u001b[0m \u001b[0;34m=\u001b[0m \u001b[0mtime\u001b[0m\u001b[0;34m(\u001b[0m\u001b[0;34m)\u001b[0m\u001b[0;34m\u001b[0m\u001b[0m\n\u001b[1;32m      5\u001b[0m lsh = LSH( 100,\n\u001b[0;32m----> 6\u001b[0;31m            \u001b[0mtfidf_matrix_train\u001b[0m\u001b[0;34m.\u001b[0m\u001b[0mshape\u001b[0m\u001b[0;34m[\u001b[0m\u001b[0;36m1\u001b[0m\u001b[0;34m]\u001b[0m\u001b[0;34m,\u001b[0m\u001b[0;34m\u001b[0m\u001b[0m\n\u001b[0m\u001b[1;32m      7\u001b[0m            \u001b[0mnum_hashtables\u001b[0m\u001b[0;34m=\u001b[0m\u001b[0;36m1\u001b[0m\u001b[0;34m,\u001b[0m\u001b[0;34m\u001b[0m\u001b[0m\n\u001b[1;32m      8\u001b[0m            storage_config={\"dict\":None})\n",
      "\u001b[0;31mNameError\u001b[0m: name 'tfidf_matrix_train' is not defined"
     ]
    }
   ],
   "source": [
    "from sparselsh import LSH\n",
    "from scipy.sparse import csr_matrix\n",
    "\n",
    "t0 = time()\n",
    "lsh = LSH( 100,\n",
    "           tfidf_matrix_train.shape[1],\n",
    "           num_hashtables=1,\n",
    "           storage_config={\"dict\":None})\n",
    "print time()-t0"
   ]
  },
  {
   "cell_type": "code",
   "execution_count": null,
   "metadata": {
    "collapsed": false
   },
   "outputs": [
    {
     "name": "stdout",
     "output_type": "stream",
     "text": [
      "6.470348%"
     ]
    }
   ],
   "source": [
    "for ix in xrange(tfidf_matrix_train.shape[0]):\n",
    "    x = tfidf_matrix_train.getrow(ix)\n",
    "    lsh.index(x)\n",
    "    progress(ix,tfidf_matrix_train.shape[0])"
   ]
  },
  {
   "cell_type": "code",
   "execution_count": null,
   "metadata": {
    "collapsed": true
   },
   "outputs": [],
   "source": [
    "from nearpy import Engine\n",
    "from nearpy.hashes import RandomBinaryProjections\n",
    "\n",
    "# Dimension of our vector space\n",
    "dimension = 478524\n",
    "\n",
    "# Create a random binary hash with 10 bits\n",
    "rbp = RandomBinaryProjections('rbp', 1000)\n",
    "\n",
    "# Create engine with pipeline configuration\n",
    "engine = Engine(dimension, lshashes=[rbp])\n",
    "\n",
    "# Index 1000000 random vectors (set their data to a unique string)\n",
    "for index in range(673685):\n",
    "    v = tfidf_matrix_train[index:index+1]\n",
    "    engine.store_vector(v, 'data_%d' % index)\n",
    "    progress(index,673685)\n",
    "\n",
    "# Create random query vector\n",
    "query = numpy.random.randn(dimension)\n",
    "\n",
    "# Get nearest neighbours\n",
    "N = engine.neighbours(query)"
   ]
  }
 ],
 "metadata": {
  "kernelspec": {
   "display_name": "Python 2",
   "language": "python",
   "name": "python2"
  },
  "language_info": {
   "codemirror_mode": {
    "name": "ipython",
    "version": 2
   },
   "file_extension": ".py",
   "mimetype": "text/x-python",
   "name": "python",
   "nbconvert_exporter": "python",
   "pygments_lexer": "ipython2",
   "version": "2.7.6"
  }
 },
 "nbformat": 4,
 "nbformat_minor": 0
}
