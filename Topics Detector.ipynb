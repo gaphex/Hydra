{
 "cells": [
  {
   "cell_type": "code",
   "execution_count": 1,
   "metadata": {
    "collapsed": false
   },
   "outputs": [
    {
     "name": "stdout",
     "output_type": "stream",
     "text": [
      "Tokenizing corpus, please wait...\n",
      "31055\n",
      "Done\n"
     ]
    }
   ],
   "source": [
    "import sqlite3\n",
    "import pandas as pd\n",
    "import matplotlib.pyplot as plt\n",
    "from collections import Counter\n",
    "import nltk\n",
    "import operator\n",
    "import collections\n",
    "from sys import stdout\n",
    "%matplotlib inline\n",
    "\n",
    "def progress(i, n):\n",
    "    stdout.write(\"\\r%f%%\" % (i*100/float(n)))\n",
    "    stdout.flush()\n",
    "    if i == n-1:\n",
    "        stdout.write(\"\\r100%\")\n",
    "        print(\"\\r\\n\")\n",
    "\n",
    "con = sqlite3.connect('tweetsSpring.db')\n",
    "data = pd.read_sql(\"SELECT * from tweets where day = 24\",con)\n",
    "\n",
    "allTweets = \" \".join(data.content_lower)\n",
    "#allTweets = allTweets.lower()\n",
    "words = []\n",
    "\n",
    "print('Tokenizing corpus, please wait...')\n",
    "\n",
    "for word in nltk.tokenize.word_tokenize(allTweets):\n",
    "    words.append(word)\n",
    "    \n",
    "\n",
    "fdist = nltk.FreqDist(words)\n",
    "sortedDist = sorted(fdist.items(), key=operator.itemgetter(1),reverse=True)\n",
    "\n",
    "moreThan3 = [x for x in sortedDist if len(x[0]) > 3]\n",
    "allTheWords = [x for x in moreThan3 if x[1] > 1]\n",
    "interestingVocab = [x[0] for x in allTheWords]\n",
    "\n",
    "print len(allTheWords)\n",
    "\n",
    "\n",
    "coolWords = []\n",
    "tot = len(allTheWords)\n",
    "print('Done')\n"
   ]
  },
  {
   "cell_type": "code",
   "execution_count": 18,
   "metadata": {
    "collapsed": false
   },
   "outputs": [
    {
     "name": "stdout",
     "output_type": "stream",
     "text": [
      "Done Document matrix\n"
     ]
    }
   ],
   "source": [
    "import sklearn\n",
    "from sklearn.feature_extraction.text import CountVectorizer \n",
    "\n",
    "cv = sklearn.feature_extraction.text.CountVectorizer(stop_words = [\"http\",\"https\"], vocabulary=interestingVocab)\n",
    "mat = cv.fit_transform(data.content_lower).toarray()\n",
    "\n",
    "print('Done Document matrix')"
   ]
  },
  {
   "cell_type": "code",
   "execution_count": 19,
   "metadata": {
    "collapsed": false
   },
   "outputs": [
    {
     "name": "stdout",
     "output_type": "stream",
     "text": [
      "17709\n"
     ]
    }
   ],
   "source": [
    "#print mat.sum()\n",
    "vocab = cv.get_feature_names()\n",
    "print len(vocab)"
   ]
  },
  {
   "cell_type": "code",
   "execution_count": 20,
   "metadata": {
    "collapsed": false
   },
   "outputs": [
    {
     "name": "stderr",
     "output_type": "stream",
     "text": [
      "WARNING:lda:all zero row in document-term matrix found\n",
      "WARNING:lda:all zero column in document-term matrix found\n"
     ]
    },
    {
     "name": "stdout",
     "output_type": "stream",
     "text": [
      "6576\n",
      "Done LDA fitting\n"
     ]
    }
   ],
   "source": [
    "oftenWords = [x for x in moreThan3 if x[1] > 3]\n",
    "print len(oftenWords)\n",
    "\n",
    "import lda\n",
    "import numpy as np\n",
    "# X = lda.datasets.load_reuters()\n",
    "# vocab = lda.datasets.load_reuters_vocab()\n",
    "# titles = lda.datasets.load_reuters_titles()\n",
    "\n",
    "model = lda.LDA(n_topics=100, n_iter=2000, random_state=1,alpha = 0.001)\n",
    "model.fit(mat)  # model.fit_transform(X) is also available\n",
    "topic_word = model.topic_word_  # model.components_ also works\n",
    "print('Done LDA fitting')"
   ]
  },
  {
   "cell_type": "code",
   "execution_count": 21,
   "metadata": {
    "collapsed": false,
    "scrolled": true
   },
   "outputs": [
    {
     "name": "stdout",
     "output_type": "stream",
     "text": [
      "Topic 0: только чего просто этого чтобы почему нужно хотя хватает\n",
      "Topic 1: пойду буду смотреть сегодня пока после спать завтра снова\n",
      "Topic 2: когда тебя нибудь могу почему себя кого есть куда\n",
      "Topic 3: gracias amor завтра через утра victoriaruffo31 часов часа спать\n",
      "Topic 4: москва рождения день днем with repostapp меня второй любимый\n",
      "Topic 5: через меня экзамен будет когда завтра только неделя снова\n",
      "Topic 6: photo just love posted instagood photooftheday park cute lodocomello\n",
      "Topic 7: меня тебе люблю тебя завтра знаю почему давай очень\n",
      "Topic 8: перед надо после tattoo сразу тату макияж точно перманентный\n",
      "Topic 9: москва сити жизни больше city сезона нравится ждем афимолл\n",
      "Topic 10: день завтра сейчас когда только меня сегодня весь экзамен\n",
      "Topic 11: очень спасибо фото парк москва сегодня прогулка какая день\n",
      "Topic 12: minutes your gold from every free address 1200 сезон\n",
      "Topic 13: спасибо всем тебе удачи большое очень огромное день рождения\n",
      "Topic 14: тебя люблю спасибо вместе будем моей тебе нашей когда\n",
      "Topic 15: когда почему зачем знаю тебе надо если куда именно\n",
      "Topic 16: москва вднх фото павильон трафик шоссе космос видео сторону\n",
      "Topic 17: утро москва доброе московский moscow фото большой театр мост\n",
      "Topic 18: bosco moscow 2015 rudimental boscofreshfest эрмитаж москва garden russia\n",
      "Topic 19: vscocam vsco московская moscow москва have week myself planetjedward\n",
      "Topic 20: ночь моего музеев сегодня ночьмузеев портрет галлерея брата картина\n",
      "Topic 21: самом деле слава самая часть богу первая snooker только\n",
      "Topic 22: спать сегодня хочу надо только гулять очень дождь когда\n",
      "Topic 23: аэропорт airport москва дома наконец vnukovoairport время отдых домой\n",
      "Topic 24: москва меня музей теперь могу счастье наконец быть какое\n",
      "Topic 25: просто теперь пока игры swet_lanna плачу тоже смотрю знаю\n",
      "Topic 26: меня могу есть давно этого только хочу один время\n",
      "Topic 27: просто тебе сколько меня когда блять тебя здесь почему\n",
      "Topic 28: moscow trndnl place hours sunday rhythm appeared inside друг\n",
      "Topic 29: году меня лента господи этом красота maria_kek просто евровидение\n",
      "Topic 30: free half style hour every money свой рождения отметила\n",
      "Topic 31: russia from live with because that москва near 1997\n",
      "Topic 32: когда момент тебя чувство лицо всегда счастье поют стихи\n",
      "Topic 33: себя сейчас меня может просто надо одна жизнь быть\n",
      "Topic 34: lebedeff_alex такой можно только тоже будет ладно ничего может\n",
      "Topic 35: которые людей если много было люди правильно мало всего\n",
      "Topic 36: спасибо день было вчера сегодня просто последний самый вечер\n",
      "Topic 37: меня если тоже есть вообще очень только тебя наверное\n",
      "Topic 38: меня onenasy тебе блять kaimiller61 просто дома совсем menschenfracht\n",
      "Topic 39: есть такие было можно нужно главное надо видео неделю\n",
      "Topic 40: club мразь вдруг память catharsis metal никогда whatchya плане\n",
      "Topic 41: день какой вечер этот место такой просто жюри люблю\n",
      "Topic 42: ewgnik canterra2 спасибо меня просто bauerbeton ничего скоро даже\n",
      "Topic 43: летом очень блин тоже правда gospodipomiluy_ надеюсь боже мама\n",
      "Topic 44: aavst месте пока себя хорошо спасибо большой соток слегка\n",
      "Topic 45: ненавижу быть такие люди вообще мечты может вечер иногда\n",
      "Topic 46: with endorphins just finished running belamova repostapp undos_l pavelsheremet\n",
      "Topic 47: меня день весь сегодня есть всем хочу всех танцы\n",
      "Topic 48: быть было были если знаю очень надо может должно\n",
      "Topic 49: спасибо выходные самые ночи fr_1909 очень меня свою verloren_to_all\n",
      "Topic 50: этого будет надеюсь только блять каждый есть можно денег\n",
      "Topic 51: надо только могу tamzatumanami когда пока было много смотреть\n",
      "Topic 52: меня такая этом жизнь тоже себе только потому боль\n",
      "Topic 53: this what with your that have good there like\n",
      "Topic 54: artplay moscow стороны потребностьдуши себя день life япутешествуюзначитживу просто\n",
      "Topic 55: место песня евровидение очень тоже евровидение2015 вчера только вообще\n",
      "Topic 56: только ewgnik bauerbeton canterra2 более пока план есть россию\n",
      "Topic 57: когда тебя блять меня просто есть люблю ненавижу можно\n",
      "Topic 58: сегодня утра дома чтобы меня тоже потом метро сучка\n",
      "Topic 59: было только вчера себе поздравляю время сегодня смотрю долго\n",
      "Topic 60: будет если надо ничего хочу когда сейчас сегодня меня\n",
      "Topic 61: pour плюс навсегда москва будет фото легенда запомним своих\n",
      "Topic 62: maistr_com vag120548 больше этого чуть жизни может извините победы\n",
      "Topic 63: ясно сейчас дождь днем утром вечером пасмурно ночью гроза\n",
      "Topic 64: меня хочу очень тоже зачем спать сейчас такая когда\n",
      "Topic 65: москва фото город площадка смотровая дворец крыша 2015 года\n",
      "Topic 66: меня который больше человек один потом будет именно тебя\n",
      "Topic 67: меня сейчас просто пиздец настроение было такое прямо какой\n",
      "Topic 68: москва парк фото square moscow площадь музеон park искусств\n",
      "Topic 69: больше было надо себя такой всего есть себе какая\n",
      "Topic 70: тебя привет откуда просто всех точно больше знаешь себе\n",
      "Topic 71: меня есть хоть тебя спасибо было теперь снова куда\n",
      "Topic 72: завтра меня тебе теперь могу если пойду должен chemical_boo\n",
      "Topic 73: меня очень друг себя вечер сиреневый любят выглядит лучше\n",
      "Topic 74: если меня будет может пока тогда даже более потому\n",
      "Topic 75: ночи всем привет спокойной снов утра спать между сладких\n",
      "Topic 76: меня есть рапапап лоика когда конечно чтобы бомбит даже\n",
      "Topic 77: будет сегодня день бродского нибудь рождения какой фильм хорошо\n",
      "Topic 78: меня хочу просто очень было сейчас такое опять могу\n",
      "Topic 79: moscow russia love москва good morning happy sunset night\n",
      "Topic 80: рапапап рапапа меня мозга теперь только тоже поняла гона\n",
      "Topic 81: fillip_ina lora_lerevna envoyatthenet если были точно будет пиздец было\n",
      "Topic 82: ukrfootball dim_n_n только россии если такие было лучше тогда\n",
      "Topic 83: надо меня было можно только сегодня ничего просто этой\n",
      "Topic 84: когда тебя хочу была можно сегодня надо только буду\n",
      "Topic 85: меня вообще ничего даже сказать всегда когда этот если\n",
      "Topic 86: если почему вообще тоже хоть один меня просто тогда\n",
      "Topic 87: самом деле была слова когда смысле diwell_ ребенок какой\n",
      "Topic 88: рапапа рапапап loïcnottetthebest пожалуйста тунайт меня рапапамеры весь лоика\n",
      "Topic 89: время друг пожалуйста первый была всегда другу быстро люди\n",
      "Topic 90: меня nie_wow фотки были тоже какие только мира зачем\n",
      "Topic 91: тебя люблю школа последнийзвонок парень друга милый просто друг\n",
      "Topic 92: москва moscow фото московская вокзал rzd_official home center арена\n",
      "Topic 93: письменности славянской культуры день сегодня люблю красной москва кирилл\n",
      "Topic 94: russia москва city метро metro moscow home about fire\n",
      "Topic 95: отделениях penelopa_queen miss_naomi_show спасибо krasavinkaa ukrfootball школе точки класс\n",
      "Topic 96: moscow russia москва park beautiful фото followme парк spring\n",
      "Topic 97: надо потом очень было найти этом могу была хочу\n",
      "Topic 98: день больше когда вообще этот назад пару люблю весь\n",
      "Topic 99: есть россии моей если этот думаю такая жизни меня\n"
     ]
    }
   ],
   "source": [
    "import numpy as np\n",
    "n_top_words = 10\n",
    "for i, topic_dist in enumerate(topic_word):\n",
    "    topic_words = np.array(vocab)[np.argsort(topic_dist)][:-n_top_words:-1]\n",
    "    print('Topic {}: {}'.format(i, ' '.join(topic_words).encode('utf-8')))\n",
    "    "
   ]
  },
  {
   "cell_type": "code",
   "execution_count": 22,
   "metadata": {
    "collapsed": false
   },
   "outputs": [
    {
     "name": "stdout",
     "output_type": "stream",
     "text": [
      "[ 0.00090909  0.00012346  0.00032258 ...,  0.00032258  0.00012346\n",
      "  0.00090909]\n",
      "102885\n"
     ]
    },
    {
     "data": {
      "image/png": "[encoded data removed]",
      "text/plain": [
       "<matplotlib.figure.Figure at 0x11540fbd0>"
      ]
     },
     "metadata": {},
     "output_type": "display_data"
    }
   ],
   "source": [
    "plt.plot(model.doc_topic_[:,5])\n",
    "print model.doc_topic_[:,1]\n",
    "print model.ndz_.sum()"
   ]
  },
  {
   "cell_type": "code",
   "execution_count": null,
   "metadata": {
    "collapsed": true
   },
   "outputs": [],
   "source": [
    "print('Building frequency distribution')\n",
    "\n",
    "for i, popword in enumerate(allTheWords):\n",
    "    if \"'\" in popword[0]:\n",
    "        continue\n",
    "        \n",
    "    con = sqlite3.connect('alltweets_scored.db')\n",
    "    query = \"SELECT * from tweets WHERE content LIKE '%%%s%%' COLLATE NOCASE\"%popword[0]\n",
    "    data = pd.read_sql(query,con)\n",
    "    \n",
    "    a = [date[5:10] for date in data['created_at']]\n",
    "    cnt = collections.Counter(a)\n",
    "    \n",
    "    mad = mean_abs_dev(cnt.values())\n",
    "    k = 3.8\n",
    "    outliers = [x for x in cnt.values() if x > k*mad]\n",
    "    important = 0\n",
    "    \n",
    "    for outlier in outliers:\n",
    "        for date, reps in cnt.iteritems():\n",
    "            if reps == outlier:\n",
    "                important = important + 1\n",
    "                if important == 1:\n",
    "                    progress(i, tot)\n",
    "\n",
    "                if mad == 0:\n",
    "                    continue\n",
    "                    \n",
    "                coolWords.append({\"word\":popword[0],\n",
    "                                \"ratio\":outlier/(k*mad),\n",
    "                                \"amount\":outlier,\n",
    "                                \"date\":date})\n",
    "\n",
    "\n",
    "sortedlist = sorted(coolWords, key = operator.itemgetter('ratio'), reverse = True)\n",
    "\n",
    "cleanWords = []\n",
    "con = sqlite3.connect('alltweets_scored.db')\n",
    "shortSorted = sortedlist[0:500]\n",
    "\n",
    "print('Filtering output')\n",
    "        \n",
    "for i, data in enumerate(shortSorted):\n",
    "    timesFound = data['amount']\n",
    "\n",
    "    if timesFound>50:\n",
    "        word = data['word']\n",
    "        query = \"SELECT * from tweets WHERE content LIKE '%%%s%%' COLLATE NOCASE\"%word\n",
    "        datum = pd.read_sql(query,con)\n",
    "        \n",
    "        unique = len(set(datum.username))\n",
    "        \n",
    "        if unique > 3:\n",
    "            cleanWords.append({\"word\":data['word'],\"ratio\":data['ratio'],\"amount\":data['amount'],\"date\":data['date']})\n",
    "            \n",
    "    progress(i, len(shortSorted))\n",
    "\n",
    "print len(cleanWords)\n",
    "\n",
    "sortedClean = sorted(cleanWords, key = operator.itemgetter('amount'), reverse = True)\n",
    "\n",
    "for cleanWord in sortedClean:\n",
    "    print cleanWord['word'], cleanWord['date'], cleanWord['ratio'], cleanWord['amount']"
   ]
  }
 ],
 "metadata": {
  "kernelspec": {
   "display_name": "Python 2",
   "language": "python",
   "name": "python2"
  },
  "language_info": {
   "codemirror_mode": {
    "name": "ipython",
    "version": 2
   },
   "file_extension": ".py",
   "mimetype": "text/x-python",
   "name": "python",
   "nbconvert_exporter": "python",
   "pygments_lexer": "ipython2",
   "version": "2.7.6"
  }
 },
 "nbformat": 4,
 "nbformat_minor": 0
}
