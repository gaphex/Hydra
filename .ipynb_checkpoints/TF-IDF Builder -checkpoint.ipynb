{
 "cells": [
  {
   "cell_type": "code",
   "execution_count": 6,
   "metadata": {
    "collapsed": false
   },
   "outputs": [],
   "source": [
    "import sqlite3\n",
    "import numpy as np\n",
    "import pandas as pd\n",
    "import matplotlib.pyplot as plt\n",
    "import operator\n",
    "import collections\n",
    "%matplotlib inline\n",
    "\n",
    "#Getting the data\n",
    "con = sqlite3.connect('tweetsSpring.db')\n",
    "data = pd.read_sql(\"SELECT * from tweets where month = 5 and day != 26\",con)\n",
    "dataLast = pd.read_sql(\"SELECT * from tweets where month = 5 and day = 26\",con)"
   ]
  },
  {
   "cell_type": "code",
   "execution_count": 11,
   "metadata": {
    "collapsed": true
   },
   "outputs": [],
   "source": [
    "#Progress\n",
    "from sys import stdout\n",
    "def progress(i, n):\n",
    "    stdout.write(\"\\r%f%%\" % (i*100/float(n)))\n",
    "    stdout.flush()\n",
    "    if i == n-1:\n",
    "        stdout.write(\"\\r100%\")\n",
    "        print(\"\\r\\n\")"
   ]
  },
  {
   "cell_type": "code",
   "execution_count": 13,
   "metadata": {
    "collapsed": false
   },
   "outputs": [
    {
     "name": "stdout",
     "output_type": "stream",
     "text": [
      "Invoking Processor...\n"
     ]
    }
   ],
   "source": [
    "import json\n",
    "import re\n",
    "import pymorphy2\n",
    "import Stemmer\n",
    "\n",
    "class TweetTextParser():\n",
    "\n",
    "    def __init__(self):\n",
    "        print 'Invoking Processor...'\n",
    "        self.morph = pymorphy2.MorphAnalyzer()\n",
    "        self.stemmer = Stemmer.Stemmer('russian')\n",
    "        try:\n",
    "            self.emo_db = json.load(open('pyalchemy/emoji_database','r'))\n",
    "        except:\n",
    "            print('No emoji database found')\n",
    "\n",
    "\n",
    "    def processContents(self, myText):\n",
    "        myText = re.sub(r'(?i)\\b((?:https?://|www\\d{0,3}[.]|[a-z0-9.\\-]+[.][a-z]{2,4}     /)(?:[^\\s()<>]+|\\(([^\\s()<>]+|(\\([^\\s()<>]+\\)))*\\))+(?:\\(([^\\s()<>]+|(\\([^\\s()<>]+\\)))*\\)|[^\\s`!()\\[\\]{};:\\'\".,<>?«»“”‘’]))', '', myText)\n",
    "        words = [word for word in re.findall(r'(?u)[@|#]?\\w+', myText) if not word.startswith(('@','#'))]\n",
    "        words = self.stemmer.stemWords(words)\n",
    "        return words\n",
    "        \n",
    "    def resolveEmoji(self, myText):\n",
    "        emostr = []\n",
    "        emo_db = self.emo_db\n",
    "        b = myText.encode('unicode_escape').split('\\\\')\n",
    "        c = [point.replace('000','+').upper() for point in b if len(point) > 8 and point[0] == 'U']\n",
    "        [emostr.append(emo_db[emo[:7]]) for emo in c if emo[:7] in emo_db]\n",
    "        return myText\n",
    "\n",
    "textProcessor = TweetTextParser()"
   ]
  },
  {
   "cell_type": "code",
   "execution_count": 14,
   "metadata": {
    "collapsed": false
   },
   "outputs": [
    {
     "name": "stdout",
     "output_type": "stream",
     "text": [
      "31.3677601814\n"
     ]
    }
   ],
   "source": [
    "from time import time\n",
    "morph = pymorphy2.MorphAnalyzer()\n",
    "stemmer = Stemmer.Stemmer('russian')\n",
    "\n",
    "#Cleaning up the data\n",
    "t0 = time()\n",
    "terms = []\n",
    "n = len(data.index)\n",
    "#n = 100000\n",
    "for i in range(n):\n",
    "    terms.append(textProcessor.processContents(data.content_lower[i]))\n",
    "print time()-t0"
   ]
  },
  {
   "cell_type": "code",
   "execution_count": 15,
   "metadata": {
    "collapsed": false
   },
   "outputs": [],
   "source": [
    "data['terms'] = terms[:]"
   ]
  },
  {
   "cell_type": "code",
   "execution_count": 10,
   "metadata": {
    "collapsed": false
   },
   "outputs": [
    {
     "name": "stdout",
     "output_type": "stream",
     "text": [
      "<bound method Series.tail of 0         2015-05-01 00:00:33\n",
      "1         2015-05-01 00:00:41\n",
      "2         2015-05-01 00:00:46\n",
      "3         2015-05-01 00:01:00\n",
      "4         2015-05-01 00:01:07\n",
      "5         2015-05-01 00:01:10\n",
      "6         2015-05-01 00:01:21\n",
      "7         2015-05-01 00:01:28\n",
      "8         2015-05-01 00:01:44\n",
      "9         2015-05-01 00:02:01\n",
      "10        2015-05-01 00:02:09\n",
      "11        2015-05-01 00:02:13\n",
      "12        2015-05-01 00:02:16\n",
      "13        2015-05-01 00:02:51\n",
      "14        2015-05-01 00:02:59\n",
      "15        2015-05-01 00:03:08\n",
      "16        2015-05-01 00:03:24\n",
      "17        2015-05-01 00:03:32\n",
      "18        2015-05-01 00:03:50\n",
      "19        2015-05-01 00:03:57\n",
      "20        2015-05-01 00:04:03\n",
      "21        2015-05-01 00:04:23\n",
      "22        2015-05-01 00:04:30\n",
      "23        2015-05-01 00:04:31\n",
      "24        2015-05-01 00:04:34\n",
      "25        2015-05-01 00:04:35\n",
      "26        2015-05-01 00:04:41\n",
      "27        2015-05-01 00:04:57\n",
      "28        2015-05-01 00:05:01\n",
      "29        2015-05-01 00:05:03\n",
      "                 ...         \n",
      "667468    2015-05-25 23:56:09\n",
      "667469    2015-05-25 23:56:11\n",
      "667470    2015-05-25 23:56:15\n",
      "667471    2015-05-25 23:56:19\n",
      "667472    2015-05-25 23:56:30\n",
      "667473    2015-05-25 23:56:41\n",
      "667474    2015-05-25 23:56:50\n",
      "667475    2015-05-25 23:56:51\n",
      "667476    2015-05-25 23:56:58\n",
      "667477    2015-05-25 23:56:58\n",
      "667478    2015-05-25 23:57:02\n",
      "667479    2015-05-25 23:57:14\n",
      "667480    2015-05-25 23:57:19\n",
      "667481    2015-05-25 23:57:36\n",
      "667482    2015-05-25 23:57:41\n",
      "667483    2015-05-25 23:57:41\n",
      "667484    2015-05-25 23:57:44\n",
      "667485    2015-05-25 23:57:53\n",
      "667486    2015-05-25 23:57:54\n",
      "667487    2015-05-25 23:57:55\n",
      "667488    2015-05-25 23:58:10\n",
      "667489    2015-05-25 23:58:12\n",
      "667490    2015-05-25 23:58:26\n",
      "667491    2015-05-25 23:58:32\n",
      "667492    2015-05-25 23:58:49\n",
      "667493    2015-05-25 23:59:12\n",
      "667494    2015-05-25 23:59:17\n",
      "667495    2015-05-25 23:59:26\n",
      "667496    2015-05-25 23:59:31\n",
      "667497    2015-05-25 23:59:36\n",
      "Name: created_at, dtype: object>\n",
      "<bound method Series.tail of 0       2015-05-26 00:00:04\n",
      "1       2015-05-26 00:00:38\n",
      "2       2015-05-26 00:00:39\n",
      "3       2015-05-26 00:00:56\n",
      "4       2015-05-26 00:01:02\n",
      "5       2015-05-26 00:01:05\n",
      "6       2015-05-26 00:01:20\n",
      "7       2015-05-26 00:01:24\n",
      "8       2015-05-26 00:01:33\n",
      "9       2015-05-26 00:01:34\n",
      "10      2015-05-26 00:01:39\n",
      "11      2015-05-26 00:01:40\n",
      "12      2015-05-26 00:01:43\n",
      "13      2015-05-26 00:01:53\n",
      "14      2015-05-26 00:02:07\n",
      "15      2015-05-26 00:02:08\n",
      "16      2015-05-26 00:02:13\n",
      "17      2015-05-26 00:02:15\n",
      "18      2015-05-26 00:02:28\n",
      "19      2015-05-26 00:02:42\n",
      "20      2015-05-26 00:02:45\n",
      "21      2015-05-26 00:04:08\n",
      "22      2015-05-26 00:04:13\n",
      "23      2015-05-26 00:04:14\n",
      "24      2015-05-26 00:04:15\n",
      "25      2015-05-26 00:04:25\n",
      "26      2015-05-26 00:04:36\n",
      "27      2015-05-26 00:04:38\n",
      "28      2015-05-26 00:04:39\n",
      "29      2015-05-26 00:04:40\n",
      "               ...         \n",
      "6157    2015-05-26 10:02:02\n",
      "6158    2015-05-26 10:02:03\n",
      "6159    2015-05-26 10:02:05\n",
      "6160    2015-05-26 10:02:06\n",
      "6161    2015-05-26 10:02:06\n",
      "6162    2015-05-26 10:02:08\n",
      "6163    2015-05-26 10:02:11\n",
      "6164    2015-05-26 10:02:11\n",
      "6165    2015-05-26 10:02:12\n",
      "6166    2015-05-26 10:02:14\n",
      "6167    2015-05-26 10:02:15\n",
      "6168    2015-05-26 10:02:20\n",
      "6169    2015-05-26 10:02:24\n",
      "6170    2015-05-26 10:02:24\n",
      "6171    2015-05-26 10:02:27\n",
      "6172    2015-05-26 10:02:27\n",
      "6173    2015-05-26 10:02:32\n",
      "6174    2015-05-26 10:02:38\n",
      "6175    2015-05-26 10:02:38\n",
      "6176    2015-05-26 10:02:39\n",
      "6177    2015-05-26 10:02:40\n",
      "6178    2015-05-26 10:02:41\n",
      "6179    2015-05-26 10:02:42\n",
      "6180    2015-05-26 10:02:44\n",
      "6181    2015-05-26 10:02:44\n",
      "6182    2015-05-26 10:02:48\n",
      "6183    2015-05-26 10:02:52\n",
      "6184    2015-05-26 10:02:53\n",
      "6185    2015-05-26 10:02:54\n",
      "6186    2015-05-26 10:02:54\n",
      "Name: created_at, dtype: object>\n"
     ]
    }
   ],
   "source": [
    "print data.created_at.tail\n",
    "print dataLast.created_at.tail"
   ]
  },
  {
   "cell_type": "code",
   "execution_count": 16,
   "metadata": {
    "collapsed": false,
    "scrolled": true
   },
   "outputs": [
    {
     "name": "stdout",
     "output_type": "stream",
     "text": [
      "Ну\n",
      "кто\n",
      "ещ\n",
      "попадет\n",
      "на\n",
      "инвентаризац\n",
      "есл\n",
      "не\n",
      "я\n",
      "пожалуйст\n",
      "пуст\n",
      "утр\n",
      "все\n",
      "эт\n",
      "окажет\n",
      "дурн\n",
      "сном\n",
      "Смотр\n",
      "я\n",
      "в\n",
      "Москв\n",
      "Сейчас\n",
      "9\n",
      "ясн\n",
      "Утром\n",
      "7\n",
      "облачн\n",
      "небольш\n",
      "дожд\n",
      "Днем\n",
      "11\n",
      "пасмурн\n",
      "дожд\n",
      "Вечер\n",
      "Аа\n",
      "ты\n",
      "в\n",
      "Москв\n",
      "Немн\n",
      "приятн\n",
      "момент\n",
      "Ну\n",
      "взяв\n",
      "тво\n",
      "ручк\n",
      "в\n",
      "сво\n",
      "несильн\n",
      "сжима\n",
      "да\n",
      "да\n",
      "я\n",
      "в\n",
      "Москв\n",
      "Росс\n",
      "ахаххах\n",
      "аргументн\n",
      "аргумент\n"
     ]
    }
   ],
   "source": [
    "for row in data.index[:10]: \n",
    "    for word in data['terms'][row]: print word"
   ]
  },
  {
   "cell_type": "code",
   "execution_count": 22,
   "metadata": {
    "collapsed": false
   },
   "outputs": [
    {
     "name": "stdout",
     "output_type": "stream",
     "text": [
      "Vocab Length:  262391\n"
     ]
    }
   ],
   "source": [
    "from collections import Counter\n",
    "import nltk\n",
    "\n",
    "words = []\n",
    "for i in range(n):\n",
    "    words += terms[i]\n",
    "\n",
    "fdist = nltk.FreqDist(words)\n",
    "sortedDist = sorted(fdist.items(), key=operator.itemgetter(1),reverse=True)\n",
    "\n",
    "sortedDist = [x for x in sortedDist if len(x[0]) > 2]\n",
    "#allTheWords = [x for x in moreThan3 if x[1] > 1]\n",
    "interestingVocab = [x[0] for x in sortedDist]\n",
    "print 'Vocab Length: ', len(interestingVocab)"
   ]
  },
  {
   "cell_type": "code",
   "execution_count": 23,
   "metadata": {
    "collapsed": false
   },
   "outputs": [
    {
     "name": "stdout",
     "output_type": "stream",
     "text": [
      "что\n",
      "так\n",
      "как\n",
      "Москв\n",
      "мен\n",
      "все\n",
      "мне\n",
      "был\n",
      "теб\n",
      "прост\n"
     ]
    }
   ],
   "source": [
    "for i in range(10):\n",
    "    print interestingVocab[i]"
   ]
  },
  {
   "cell_type": "code",
   "execution_count": 24,
   "metadata": {
    "collapsed": false
   },
   "outputs": [],
   "source": [
    "#Find TF-IDF\n",
    "from sklearn.feature_extraction.text import CountVectorizer\n",
    "from sklearn.metrics.pairwise import cosine_similarity\n",
    "from sklearn.feature_extraction.text import TfidfVectorizer\n",
    "\n",
    "trainingList = []\n",
    "for i in range(n):\n",
    "    trainingList.append(' '.join(data['terms'][i]))\n",
    "\n",
    "tfidf_vectorizer = TfidfVectorizer(vocabulary = interestingVocab)\n",
    "tfidf_matrix_train = tfidf_vectorizer.fit_transform(trainingList)  #finds the tfidf score with normalization"
   ]
  },
  {
   "cell_type": "code",
   "execution_count": 131,
   "metadata": {
    "collapsed": false
   },
   "outputs": [],
   "source": [
    "import time\n",
    "def findSimilarTweets(queryTweet, data, threshold, maxNumber = 0):\n",
    "    print 'Query:', queryTweet\n",
    "    \n",
    "    processedTweet = ' '.join(textProcessor.processContents(queryTweet))\n",
    "    queryTweetRepresentation = tfidf_vectorizer.transform([processedTweet])\n",
    "    \n",
    "    start_time = time.time()\n",
    "    cosine_similarities = cosine_similarity(queryTweetRepresentation, tfidf_matrix_train)[0]\n",
    "    totalMatchingTweets = len(cosine_similarities[cosine_similarities>threshold])\n",
    "    if maxNumber:\n",
    "        totalMatchingTweets = min(totalMatchingTweets, maxNumber)\n",
    "    indices = cosine_similarities.argsort()[::-1][:totalMatchingTweets]\n",
    "    elapsed_time = time.time() - start_time\n",
    "    print 'time: ', elapsed_time\n",
    "    print ''\n",
    "    print 'Results:'\n",
    "    print data[indices]\n",
    "    print ''\n",
    "    print 'cosine scores ==>', cosine_similarities[indices]\n",
    "    \n",
    "    return indices"
   ]
  },
  {
   "cell_type": "code",
   "execution_count": 132,
   "metadata": {
    "collapsed": false
   },
   "outputs": [
    {
     "name": "stdout",
     "output_type": "stream",
     "text": [
      "Query: в метро объявляют станции\n",
      "time:  0.224648952484\n",
      "\n",
      "Results:\n",
      "208048    А в Московском метро станции объявляют знамени...\n",
      "82540     До боли знакомый голос объявляет станции в метро)\n",
      "47704          Хочу чтобы в метро станции объявлял патриарх\n",
      "103067    Я хочу, чтобы станции в метро объявлял Джеймс ...\n",
      "51625     Голос #ДмитрийГуберниев #губерниев объявляющий...\n",
      "508327    Наконец то Лолита больше не объявляет мою стан...\n",
      "30541     Блин, а в метро и правда станции объявляют гол...\n",
      "222745    @302466 Так круто едишь в метро , а станции те...\n",
      "107291    @Ryabenko_Nikita и не только он)\\nВо всем метр...\n",
      "111956    Приятно, это тогда, когда тебе в метро объявля...\n",
      "Name: content, dtype: object\n",
      "\n",
      "cosine scores ==> [ 0.75964594  0.73711167  0.71805737  0.71462365  0.69707083  0.69212216\n",
      "  0.68498465  0.6784575   0.67471516  0.6738558 ]\n"
     ]
    }
   ],
   "source": [
    "#before\n",
    "inidiciesOfTweets = findSimilarTweets(u'в метро объявляют станции', data['content'], 0.5, 10)"
   ]
  },
  {
   "cell_type": "code",
   "execution_count": null,
   "metadata": {
    "collapsed": true
   },
   "outputs": [],
   "source": [
    "len(data)"
   ]
  },
  {
   "cell_type": "code",
   "execution_count": 74,
   "metadata": {
    "collapsed": false
   },
   "outputs": [
    {
     "name": "stdout",
     "output_type": "stream",
     "text": [
      "Vocab Length:  15268\n"
     ]
    }
   ],
   "source": [
    "print 'Vocab Length: ', len(interestingVocab)"
   ]
  },
  {
   "cell_type": "code",
   "execution_count": 75,
   "metadata": {
    "collapsed": false
   },
   "outputs": [
    {
     "name": "stdout",
     "output_type": "stream",
     "text": [
      "Ребята, мы всем рады!\n"
     ]
    }
   ],
   "source": [
    "print data['cleanText'][0]"
   ]
  },
  {
   "cell_type": "code",
   "execution_count": 53,
   "metadata": {
    "collapsed": false
   },
   "outputs": [
    {
     "data": {
      "text/plain": [
       "673685"
      ]
     },
     "execution_count": 53,
     "metadata": {},
     "output_type": "execute_result"
    }
   ],
   "source": [
    "len(trainigList)"
   ]
  },
  {
   "cell_type": "code",
   "execution_count": 2,
   "metadata": {
    "collapsed": false
   },
   "outputs": [
    {
     "name": "stdout",
     "output_type": "stream",
     "text": [
      "hi\n"
     ]
    }
   ],
   "source": [
    "from scipy.sparse import csr_matrix\n",
    "\n",
    "print('hi')"
   ]
  },
  {
   "cell_type": "code",
   "execution_count": 45,
   "metadata": {
    "collapsed": false
   },
   "outputs": [
    {
     "ename": "NameError",
     "evalue": "name 'tfidf_matrix_train' is not defined",
     "output_type": "error",
     "traceback": [
      "\u001b[0;31m---------------------------------------------------------------------------\u001b[0m",
      "\u001b[0;31mNameError\u001b[0m                                 Traceback (most recent call last)",
      "\u001b[0;32m<ipython-input-45-f4577b5aa7aa>\u001b[0m in \u001b[0;36m<module>\u001b[0;34m()\u001b[0m\n\u001b[1;32m      4\u001b[0m \u001b[0mt0\u001b[0m \u001b[0;34m=\u001b[0m \u001b[0mtime\u001b[0m\u001b[0;34m(\u001b[0m\u001b[0;34m)\u001b[0m\u001b[0;34m\u001b[0m\u001b[0m\n\u001b[1;32m      5\u001b[0m lsh = LSH( 100,\n\u001b[0;32m----> 6\u001b[0;31m            \u001b[0mtfidf_matrix_train\u001b[0m\u001b[0;34m.\u001b[0m\u001b[0mshape\u001b[0m\u001b[0;34m[\u001b[0m\u001b[0;36m1\u001b[0m\u001b[0;34m]\u001b[0m\u001b[0;34m,\u001b[0m\u001b[0;34m\u001b[0m\u001b[0m\n\u001b[0m\u001b[1;32m      7\u001b[0m            \u001b[0mnum_hashtables\u001b[0m\u001b[0;34m=\u001b[0m\u001b[0;36m1\u001b[0m\u001b[0;34m,\u001b[0m\u001b[0;34m\u001b[0m\u001b[0m\n\u001b[1;32m      8\u001b[0m            storage_config={\"dict\":None})\n",
      "\u001b[0;31mNameError\u001b[0m: name 'tfidf_matrix_train' is not defined"
     ]
    }
   ],
   "source": [
    "from sparselsh import LSH\n",
    "from scipy.sparse import csr_matrix\n",
    "\n",
    "t0 = time()\n",
    "lsh = LSH( 100,\n",
    "           tfidf_matrix_train.shape[1],\n",
    "           num_hashtables=1,\n",
    "           storage_config={\"dict\":None})\n",
    "print time()-t0"
   ]
  },
  {
   "cell_type": "code",
   "execution_count": null,
   "metadata": {
    "collapsed": false
   },
   "outputs": [
    {
     "name": "stdout",
     "output_type": "stream",
     "text": [
      "6.470348%"
     ]
    }
   ],
   "source": [
    "for ix in xrange(tfidf_matrix_train.shape[0]):\n",
    "    x = tfidf_matrix_train.getrow(ix)\n",
    "    lsh.index(x)\n",
    "    progress(ix,tfidf_matrix_train.shape[0])"
   ]
  },
  {
   "cell_type": "code",
   "execution_count": null,
   "metadata": {
    "collapsed": true
   },
   "outputs": [],
   "source": [
    "from nearpy import Engine\n",
    "from nearpy.hashes import RandomBinaryProjections\n",
    "\n",
    "# Dimension of our vector space\n",
    "dimension = 478524\n",
    "\n",
    "# Create a random binary hash with 10 bits\n",
    "rbp = RandomBinaryProjections('rbp', 1000)\n",
    "\n",
    "# Create engine with pipeline configuration\n",
    "engine = Engine(dimension, lshashes=[rbp])\n",
    "\n",
    "# Index 1000000 random vectors (set their data to a unique string)\n",
    "for index in range(673685):\n",
    "    v = tfidf_matrix_train[index:index+1]\n",
    "    engine.store_vector(v, 'data_%d' % index)\n",
    "    progress(index,673685)\n",
    "\n",
    "# Create random query vector\n",
    "query = numpy.random.randn(dimension)\n",
    "\n",
    "# Get nearest neighbours\n",
    "N = engine.neighbours(query)"
   ]
  }
 ],
 "metadata": {
  "kernelspec": {
   "display_name": "Python 2",
   "language": "python",
   "name": "python2"
  },
  "language_info": {
   "codemirror_mode": {
    "name": "ipython",
    "version": 2
   },
   "file_extension": ".py",
   "mimetype": "text/x-python",
   "name": "python",
   "nbconvert_exporter": "python",
   "pygments_lexer": "ipython2",
   "version": "2.7.6"
  }
 },
 "nbformat": 4,
 "nbformat_minor": 0
}
